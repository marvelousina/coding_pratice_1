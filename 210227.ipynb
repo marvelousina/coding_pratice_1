{
 "cells": [
  {
   "cell_type": "markdown",
   "metadata": {},
   "source": [
    "# Finding the percentage"
   ]
  },
  {
   "cell_type": "markdown",
   "metadata": {},
   "source": [
    "### problem set"
   ]
  },
  {
   "cell_type": "markdown",
   "metadata": {},
   "source": [
    "key : value pairs are<br/>\n",
    "\n",
    "'student_1(' : [10, 20, 30]"
   ]
  },
  {
   "cell_type": "code",
   "execution_count": null,
   "metadata": {},
   "outputs": [],
   "source": []
  },
  {
   "cell_type": "code",
   "execution_count": null,
   "metadata": {},
   "outputs": [],
   "source": []
  },
  {
   "cell_type": "code",
   "execution_count": null,
   "metadata": {},
   "outputs": [],
   "source": []
  },
  {
   "cell_type": "code",
   "execution_count": 66,
   "metadata": {},
   "outputs": [
    {
     "name": "stdout",
     "output_type": "stream",
     "text": [
      "ina 10 20 30\n",
      "keaton 40 50 60\n",
      "ina\n",
      "20.00\n"
     ]
    }
   ],
   "source": [
    "# create empty list\n",
    "student_scores = {} \n",
    "\n",
    "# for loops\n",
    "for _ in range(n):\n",
    "    # split the input on empty space\n",
    "    line = input().split() \n",
    "    # line[0] = name part, line[1:] = three scores\n",
    "    name = line[0]\n",
    "    # convert the scores into float by map function\n",
    "    scores = map(float, line[1:])\n",
    "    # how's the name and store put in the {}\n",
    "    student_scores[name] = scores\n",
    "\n",
    "# which student's score do you want to know?    \n",
    "query_name = input()\n",
    "\n",
    "# here is the student's(input()) score\n",
    "query_scores = student_scores[query_name]\n",
    "\n",
    "print(format(sum(query_scores) / 3, '.2f')) # printing two decimal places"
   ]
  },
  {
   "cell_type": "code",
   "execution_count": null,
   "metadata": {},
   "outputs": [],
   "source": []
  },
  {
   "cell_type": "code",
   "execution_count": null,
   "metadata": {},
   "outputs": [],
   "source": []
  }
 ],
 "metadata": {
  "kernelspec": {
   "display_name": "Python 3",
   "language": "python",
   "name": "python3"
  },
  "language_info": {
   "codemirror_mode": {
    "name": "ipython",
    "version": 3
   },
   "file_extension": ".py",
   "mimetype": "text/x-python",
   "name": "python",
   "nbconvert_exporter": "python",
   "pygments_lexer": "ipython3",
   "version": "3.8.3"
  }
 },
 "nbformat": 4,
 "nbformat_minor": 4
}
