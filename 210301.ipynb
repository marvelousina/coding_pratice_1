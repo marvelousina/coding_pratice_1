{
 "cells": [
  {
   "cell_type": "markdown",
   "metadata": {},
   "source": [
    "# Lists"
   ]
  },
  {
   "cell_type": "markdown",
   "metadata": {},
   "source": [
    "### problem set"
   ]
  },
  {
   "cell_type": "markdown",
   "metadata": {},
   "source": [
    "consider a list(list = [&nbsp;&nbsp;])<br/>\n",
    "\n",
    "you're going to perform the following commands<br/>\n",
    "> - insert : $e$(integer) at $i$(position) \n",
    "- print : print the list\n",
    "- remove $e$ : delete the first occurrence of $e$(integer)\n",
    "- append $e$ : insert $e$(integer) at the end of the list\n",
    "- sort : sort the list\n",
    "- pop : pop the last element from the list\n",
    "- reverse : reverse the list\n",
    "\n",
    "you can pick whatever you want based on N(denoting the number of commands)<br/>\n",
    "\n",
    "$ex$) it N(input) = 3, you're allowed to use 3 functions"
   ]
  },
  {
   "cell_type": "code",
   "execution_count": 6,
   "metadata": {},
   "outputs": [
    {
     "name": "stdout",
     "output_type": "stream",
     "text": [
      "2\n",
      "insert 2 0\n",
      "print\n",
      "[0]\n"
     ]
    }
   ],
   "source": [
    "N = int(input())\n",
    "\n",
    "# make a list\n",
    "arr = []\n",
    "\n",
    "# for loops\n",
    "for _ in range(N):\n",
    "    # your input takes this form : \n",
    "    # name of the function(insert, append...) + (e or i)\n",
    "    # what I need to do is split this composition into name and integer\n",
    "    fun = input().split(\" \")\n",
    "    if fun[0] == \"append\":\n",
    "        arr.append(int(fun[1]))\n",
    "    elif fun[0] == \"insert\":\n",
    "        arr.insert(int(fun[1]),int(fun[2]))\n",
    "    elif fun[0] == \"remove\":\n",
    "        arr.remove(int(fun[1]))\n",
    "    elif fun[0] == \"sort\":\n",
    "        arr.sort()\n",
    "    elif fun[0] == \"pop\":\n",
    "        arr.pop()\n",
    "    elif fun[0] == \"reverse\":\n",
    "        arr.reverse()\n",
    "    elif fun[0] == \"print\":\n",
    "        print(arr)"
   ]
  },
  {
   "cell_type": "markdown",
   "metadata": {},
   "source": [
    "# Tuples"
   ]
  },
  {
   "cell_type": "markdown",
   "metadata": {},
   "source": [
    "### problem set"
   ]
  },
  {
   "cell_type": "markdown",
   "metadata": {},
   "source": [
    "> $n$ = integer<br/>\n",
    "$t$ = n spaced-separated integers as input, create a tuple, of those $n$ integers\n",
    "\n",
    "Compute and print the result of hash($t$)"
   ]
  },
  {
   "cell_type": "code",
   "execution_count": 8,
   "metadata": {},
   "outputs": [
    {
     "name": "stdout",
     "output_type": "stream",
     "text": [
      "2\n",
      "1 2\n",
      "-3550055125485641917\n"
     ]
    }
   ],
   "source": [
    "n = int(input())\n",
    "\n",
    "# split the input : '1, 2'\n",
    "input_results = input().split()\n",
    "\n",
    "# convert into integer then make a list : [1, 2]\n",
    "final_results = list(map(int, input_results))\n",
    "\n",
    "# make a tuple\n",
    "new_tuple = tuple(final_results)\n",
    "\n",
    "# print the result of hash\n",
    "print(hash(new_tuple))"
   ]
  },
  {
   "cell_type": "markdown",
   "metadata": {},
   "source": [
    "### what I've learned"
   ]
  },
  {
   "cell_type": "code",
   "execution_count": 14,
   "metadata": {},
   "outputs": [
    {
     "name": "stdout",
     "output_type": "stream",
     "text": [
      "2\n",
      "1 2\n",
      "['1', '2']\n"
     ]
    },
    {
     "data": {
      "text/plain": [
       "[1, 2]"
      ]
     },
     "execution_count": 14,
     "metadata": {},
     "output_type": "execute_result"
    }
   ],
   "source": [
    "# make a integer list\n",
    "\n",
    "# single value\n",
    "n = input()\n",
    "\n",
    "# a number of values\n",
    "input_values = input()\n",
    "\n",
    "input_values.split() # still not integer\n",
    "\n",
    "print(input_values.split())\n",
    "\n",
    "# covert into list value into integer\n",
    "\n",
    "# 1. map function\n",
    "\n",
    "input_values = input_values.split()\n",
    "list(map(int,input_values))"
   ]
  },
  {
   "cell_type": "code",
   "execution_count": 34,
   "metadata": {},
   "outputs": [
    {
     "name": "stdout",
     "output_type": "stream",
     "text": [
      "2\n",
      "1 2\n",
      "['1', '2']\n"
     ]
    }
   ],
   "source": [
    "# 2. for loops\n",
    "\n",
    "# make a integer list\n",
    "\n",
    "# single value\n",
    "n = int(input())\n",
    "\n",
    "# a number of values\n",
    "input_values = input()\n",
    "\n",
    "input_list = input_values.split() # still not integer\n",
    "\n",
    "print(input_list)\n",
    "\n",
    "for i in range(n):\n",
    "    input_list[i] = int(input_list[i])"
   ]
  },
  {
   "cell_type": "code",
   "execution_count": 35,
   "metadata": {},
   "outputs": [
    {
     "data": {
      "text/plain": [
       "int"
      ]
     },
     "execution_count": 35,
     "metadata": {},
     "output_type": "execute_result"
    }
   ],
   "source": [
    "type(input_list[0])"
   ]
  }
 ],
 "metadata": {
  "kernelspec": {
   "display_name": "Python 3",
   "language": "python",
   "name": "python3"
  },
  "language_info": {
   "codemirror_mode": {
    "name": "ipython",
    "version": 3
   },
   "file_extension": ".py",
   "mimetype": "text/x-python",
   "name": "python",
   "nbconvert_exporter": "python",
   "pygments_lexer": "ipython3",
   "version": "3.8.3"
  }
 },
 "nbformat": 4,
 "nbformat_minor": 4
}
