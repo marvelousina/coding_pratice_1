{
 "cells": [
  {
   "cell_type": "markdown",
   "metadata": {},
   "source": [
    "# Nested Lists\n",
    "\n",
    "## problem set\n",
    "\n",
    "There are 5 students with each of the grade<br/>\n",
    "Make a list including name and grade and find out the student name with second lowest grade<br/>"
   ]
  },
  {
   "cell_type": "code",
   "execution_count": null,
   "metadata": {},
   "outputs": [],
   "source": [
    "# how many student?\n",
    "\n",
    "n = int(input())"
   ]
  },
  {
   "cell_type": "code",
   "execution_count": 2,
   "metadata": {},
   "outputs": [],
   "source": [
    "# make a list : namelist, gradelist\n",
    "\n",
    "namelist = []\n",
    "gradelist = []"
   ]
  },
  {
   "cell_type": "code",
   "execution_count": 3,
   "metadata": {},
   "outputs": [
    {
     "name": "stdout",
     "output_type": "stream",
     "text": [
      "ina\n",
      "10\n",
      "keaton\n",
      "20\n",
      "justin\n",
      "30\n",
      "clay\n",
      "40\n",
      "jessica\n",
      "50\n"
     ]
    }
   ],
   "source": [
    "for _ in range(n):\n",
    "    name = input()\n",
    "    score = float(input())\n",
    "    namelist.append((score, name))\n",
    "    gradelist.append(score)"
   ]
  },
  {
   "cell_type": "code",
   "execution_count": 5,
   "metadata": {
    "scrolled": true
   },
   "outputs": [
    {
     "name": "stdout",
     "output_type": "stream",
     "text": [
      "[(10.0, 'ina'), (20.0, 'keaton'), (30.0, 'justin'), (40.0, 'clay'), (50.0, 'jessica')]\n",
      "[10.0, 20.0, 30.0, 40.0, 50.0]\n"
     ]
    },
    {
     "data": {
      "text/plain": [
       "(None, None)"
      ]
     },
     "execution_count": 5,
     "metadata": {},
     "output_type": "execute_result"
    }
   ],
   "source": [
    "print(namelist), print(gradelist)"
   ]
  },
  {
   "cell_type": "code",
   "execution_count": 7,
   "metadata": {},
   "outputs": [],
   "source": [
    "# make a final list including new value\n",
    "\n",
    "finalnamelist = namelist[:]\n",
    "finalgradelist = []\n",
    "finallist = []"
   ]
  },
  {
   "cell_type": "code",
   "execution_count": 8,
   "metadata": {},
   "outputs": [],
   "source": [
    "# find out minimum value and remove it!\n",
    "\n",
    "for i in range(n):\n",
    "    if namelist[i][0] == min(gradelist): # search the minimum grade\n",
    "        finalnamelist.remove(namelist[i]) # remove the minimum grade"
   ]
  },
  {
   "cell_type": "code",
   "execution_count": 9,
   "metadata": {},
   "outputs": [
    {
     "name": "stdout",
     "output_type": "stream",
     "text": [
      "[(20.0, 'keaton'), (30.0, 'justin'), (40.0, 'clay'), (50.0, 'jessica')]\n"
     ]
    }
   ],
   "source": [
    "print(finalnamelist)"
   ]
  },
  {
   "cell_type": "code",
   "execution_count": 10,
   "metadata": {},
   "outputs": [],
   "source": [
    "for i in range(len(finalnamelist)):\n",
    "    finalgradelist.append(finalnamelist[i][0])"
   ]
  },
  {
   "cell_type": "code",
   "execution_count": 11,
   "metadata": {},
   "outputs": [
    {
     "data": {
      "text/plain": [
       "[20.0, 30.0, 40.0, 50.0]"
      ]
     },
     "execution_count": 11,
     "metadata": {},
     "output_type": "execute_result"
    }
   ],
   "source": [
    "finalgradelist"
   ]
  },
  {
   "cell_type": "code",
   "execution_count": 12,
   "metadata": {},
   "outputs": [],
   "source": [
    "for i in range(len(finalnamelist)):\n",
    "    if finalnamelist[i][0] == min(finalgradelist):\n",
    "        finallist.append(finalnamelist[i][1])"
   ]
  },
  {
   "cell_type": "code",
   "execution_count": 13,
   "metadata": {},
   "outputs": [
    {
     "name": "stdout",
     "output_type": "stream",
     "text": [
      "['keaton']\n"
     ]
    }
   ],
   "source": [
    "print(finallist)"
   ]
  },
  {
   "cell_type": "code",
   "execution_count": 14,
   "metadata": {},
   "outputs": [
    {
     "name": "stdout",
     "output_type": "stream",
     "text": [
      "keaton\n"
     ]
    }
   ],
   "source": [
    "for i in range(len(finallist)):\n",
    "    print(finallist[i])"
   ]
  },
  {
   "cell_type": "markdown",
   "metadata": {},
   "source": [
    "## What I've learned"
   ]
  },
  {
   "cell_type": "code",
   "execution_count": 16,
   "metadata": {},
   "outputs": [
    {
     "name": "stdout",
     "output_type": "stream",
     "text": [
      "2\n",
      "ina\n",
      "10\n",
      "justin\n",
      "20\n"
     ]
    }
   ],
   "source": [
    "# how to make a nested list\n",
    "\n",
    "n = int(input())\n",
    "name_score_list = [] # name of the list\n",
    "\n",
    "for _ in range(n):\n",
    "    name = input() \n",
    "    score = float(input())\n",
    "    name_score_list.append((name, score))"
   ]
  },
  {
   "cell_type": "code",
   "execution_count": 17,
   "metadata": {},
   "outputs": [
    {
     "name": "stdout",
     "output_type": "stream",
     "text": [
      "[('ina', 10.0), ('justin', 20.0)]\n"
     ]
    }
   ],
   "source": [
    "print(name_score_list)"
   ]
  },
  {
   "cell_type": "code",
   "execution_count": null,
   "metadata": {},
   "outputs": [],
   "source": []
  }
 ],
 "metadata": {
  "kernelspec": {
   "display_name": "Python 3",
   "language": "python",
   "name": "python3"
  },
  "language_info": {
   "codemirror_mode": {
    "name": "ipython",
    "version": 3
   },
   "file_extension": ".py",
   "mimetype": "text/x-python",
   "name": "python",
   "nbconvert_exporter": "python",
   "pygments_lexer": "ipython3",
   "version": "3.8.3"
  }
 },
 "nbformat": 4,
 "nbformat_minor": 4
}
