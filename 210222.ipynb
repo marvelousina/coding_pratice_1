{
 "cells": [
  {
   "cell_type": "markdown",
   "metadata": {},
   "source": [
    "# Python If-Else"
   ]
  },
  {
   "cell_type": "markdown",
   "metadata": {},
   "source": [
    "### Problem Set\n",
    "\n",
    "Condition1 : If n = odd, print Weird<br/>\n",
    "Condition2 : If n = even & inclusive range 2 to 5, print Not Weird<br/>\n",
    "Condition3 : If n = even & inclusive range 6 to 20, print Weird<br/>\n",
    "Condition4 : If n = even & greater than 20, print Not Weird"
   ]
  },
  {
   "cell_type": "code",
   "execution_count": 15,
   "metadata": {},
   "outputs": [],
   "source": [
    "import math\n",
    "import os\n",
    "import random\n",
    "import re\n",
    "import sys"
   ]
  },
  {
   "cell_type": "code",
   "execution_count": 16,
   "metadata": {},
   "outputs": [
    {
     "name": "stdout",
     "output_type": "stream",
     "text": [
      "3\n"
     ]
    }
   ],
   "source": [
    "n = int(input().strip())"
   ]
  },
  {
   "cell_type": "code",
   "execution_count": 17,
   "metadata": {},
   "outputs": [
    {
     "name": "stdout",
     "output_type": "stream",
     "text": [
      "Weird\n"
     ]
    }
   ],
   "source": [
    "if (n%2) != 0:\n",
    "    print(\"Weird\")\n",
    "elif (n%2) == 0 and 2<=n<=5:\n",
    "    print(\"Not Weird\")\n",
    "elif (n%2) == 0 and 6<=n<=20:\n",
    "    print(\"Weird\")\n",
    "elif (n%2) == 0 and n > 20:\n",
    "    print(\"Not Weird\")\n",
    "else:\n",
    "    pass"
   ]
  },
  {
   "cell_type": "code",
   "execution_count": 18,
   "metadata": {},
   "outputs": [
    {
     "name": "stdout",
     "output_type": "stream",
     "text": [
      "24\n"
     ]
    }
   ],
   "source": [
    "n = int(input().strip())"
   ]
  },
  {
   "cell_type": "code",
   "execution_count": 19,
   "metadata": {},
   "outputs": [
    {
     "name": "stdout",
     "output_type": "stream",
     "text": [
      "Not Weird\n"
     ]
    }
   ],
   "source": [
    "if (n%2) != 0:\n",
    "    print(\"Weird\")\n",
    "elif (n%2) == 0 and 2<=n<=5:\n",
    "    print(\"Not Weird\")\n",
    "elif (n%2) == 0 and 6<=n<=20:\n",
    "    print(\"Weird\")\n",
    "elif (n%2) == 0 and n > 20:\n",
    "    print(\"Not Weird\")\n",
    "else:\n",
    "    pass"
   ]
  },
  {
   "cell_type": "markdown",
   "metadata": {},
   "source": [
    "## What I've learned\n",
    "1. how to check if a Number is odd or even<br/>\n",
    "odd : n%2 != 0<br/>\n",
    "even : n%2 == 0<br/>\n",
    "\n",
    "2. If..elif..else"
   ]
  },
  {
   "cell_type": "markdown",
   "metadata": {},
   "source": [
    "# Loops"
   ]
  },
  {
   "cell_type": "markdown",
   "metadata": {},
   "source": [
    "### Problem Set\n",
    "\n",
    "n = integer. For all non-negatvie integers i < n, print $i^2$<br>\n",
    "\n",
    "Example n = 3 then the list of non-negative integers that are less than 3 is 0, 1, 2. Print the square of each number on a separate line. The answer is 0, 1, 4"
   ]
  },
  {
   "cell_type": "code",
   "execution_count": 21,
   "metadata": {},
   "outputs": [
    {
     "name": "stdout",
     "output_type": "stream",
     "text": [
      "5\n",
      "0\n",
      "1\n",
      "4\n",
      "9\n",
      "16\n"
     ]
    }
   ],
   "source": [
    "n = int(input())\n",
    "for i in range(n):\n",
    "    print(i**2)"
   ]
  },
  {
   "cell_type": "markdown",
   "metadata": {},
   "source": [
    "## What I've learned\n",
    "1. for i in range()<br/>"
   ]
  },
  {
   "cell_type": "code",
   "execution_count": 22,
   "metadata": {},
   "outputs": [],
   "source": [
    "n = 3"
   ]
  },
  {
   "cell_type": "code",
   "execution_count": 23,
   "metadata": {},
   "outputs": [
    {
     "name": "stdout",
     "output_type": "stream",
     "text": [
      "0\n",
      "1\n",
      "2\n"
     ]
    }
   ],
   "source": [
    "for i in range(n):\n",
    "    print(i) "
   ]
  }
 ],
 "metadata": {
  "kernelspec": {
   "display_name": "Python 3",
   "language": "python",
   "name": "python3"
  },
  "language_info": {
   "codemirror_mode": {
    "name": "ipython",
    "version": 3
   },
   "file_extension": ".py",
   "mimetype": "text/x-python",
   "name": "python",
   "nbconvert_exporter": "python",
   "pygments_lexer": "ipython3",
   "version": "3.8.3"
  }
 },
 "nbformat": 4,
 "nbformat_minor": 4
}
