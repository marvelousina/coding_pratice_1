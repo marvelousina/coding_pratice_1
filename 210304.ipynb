{
 "cells": [
  {
   "cell_type": "markdown",
   "metadata": {},
   "source": [
    "# Find a string"
   ]
  },
  {
   "cell_type": "markdown",
   "metadata": {},
   "source": [
    "### problem set"
   ]
  },
  {
   "cell_type": "markdown",
   "metadata": {},
   "source": [
    ">- input = ABCDCDC(original string), CDC(substring)<br/>\n",
    "- output = 2(total number of occurence of the substring in the original string)"
   ]
  },
  {
   "cell_type": "code",
   "execution_count": null,
   "metadata": {},
   "outputs": [],
   "source": [
    "# user define function\n",
    "\n",
    "def count_substring(string, sub_string):\n",
    "\n",
    "    x = 0 # initial x value\n",
    "    y = 0 # initial y value\n",
    "    \n",
    "    # while loops\n",
    "    while y < len(string):\n",
    "        result = string.find(sub_string, y) # string.find(value, start(0~6, 7 is out of the range)\n",
    "        \n",
    "        if result != -1: # if result != -1, meaning there is substring in the original one\n",
    "            y = pos +1 \n",
    "            x += 1 # when you find the substring, then plus 1\n",
    "        else: # if result == -1, maeaning there is no substring in the original one\n",
    "            break # stop while loops\n",
    "            \n",
    "    # watch out the indentation!        \n",
    "    return x\n",
    "\n",
    "string = input().strip()\n",
    "sub_string = input().strip()\n",
    "count = count_substring(string, sub_string)\n",
    "print(count)"
   ]
  },
  {
   "cell_type": "markdown",
   "metadata": {},
   "source": [
    "# String Validator"
   ]
  },
  {
   "cell_type": "markdown",
   "metadata": {},
   "source": [
    "### problem set"
   ]
  },
  {
   "cell_type": "markdown",
   "metadata": {},
   "source": [
    ">- input : qA2<br/>\n",
    "In the first line, print True if $S$ has any alphanumeric characters. Otherwise, print False.<br/>\n",
    "In the second line, print True if $S$ has any alphabetical characters. Otherwise, print False.<br/>\n",
    "In the third line, print True if $S$ has any digits. Otherwise, print False.<br/>\n",
    "In the fourth line, print True if $S$ has any lowercase characters. Otherwise, print False.<br/>\n",
    "In the fifth line, print True if $S$ has any uppercase characters. Otherwise, print False.<br/>"
   ]
  },
  {
   "cell_type": "code",
   "execution_count": 105,
   "metadata": {},
   "outputs": [
    {
     "name": "stdout",
     "output_type": "stream",
     "text": [
      "qA2\n",
      "True\n",
      "True\n",
      "True\n",
      "True\n",
      "True\n"
     ]
    }
   ],
   "source": [
    "S = input()\n",
    "\n",
    "# Make sure the function to check if any alphanumeric/alphabetical.../uppercase in S\n",
    "# all the functions supposed to checks if all the characters of a string are alphanumeric\n",
    "\n",
    "if any(i.isalnum() for i in S):\n",
    "    print(True)\n",
    "else:\n",
    "    print(False)\n",
    "if any(i.isalpha() for i in S):\n",
    "    print(True)\n",
    "else:\n",
    "    print(False)\n",
    "if any(i.isdigit() for i in S):\n",
    "    print(True)\n",
    "else:\n",
    "    print(False)\n",
    "if any(i.islower() for i in S):\n",
    "    print(True)\n",
    "else:\n",
    "    print(False)\n",
    "if any(i.isupper() for i in S):\n",
    "    print(True)\n",
    "else:\n",
    "    print(False)"
   ]
  }
 ],
 "metadata": {
  "kernelspec": {
   "display_name": "Python 3",
   "language": "python",
   "name": "python3"
  },
  "language_info": {
   "codemirror_mode": {
    "name": "ipython",
    "version": 3
   },
   "file_extension": ".py",
   "mimetype": "text/x-python",
   "name": "python",
   "nbconvert_exporter": "python",
   "pygments_lexer": "ipython3",
   "version": "3.8.3"
  }
 },
 "nbformat": 4,
 "nbformat_minor": 4
}
