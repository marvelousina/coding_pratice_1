{
 "cells": [
  {
   "cell_type": "markdown",
   "metadata": {},
   "source": [
    "# What's your name"
   ]
  },
  {
   "cell_type": "markdown",
   "metadata": {},
   "source": [
    "### problem set"
   ]
  },
  {
   "cell_type": "markdown",
   "metadata": {},
   "source": [
    ">input : Ina, Park<br/>\n",
    "output : Hello Ina park! You're learning python."
   ]
  },
  {
   "cell_type": "code",
   "execution_count": 4,
   "metadata": {},
   "outputs": [
    {
     "name": "stdout",
     "output_type": "stream",
     "text": [
      "Ina\n",
      "Park\n",
      "Hello Ina Park! You're learning python.\n"
     ]
    }
   ],
   "source": [
    "# User define function\n",
    "\n",
    "def print_full_name(a, b):\n",
    "    a = first_name\n",
    "    b = last_name\n",
    "    print(\"Hello \" + a + \" \" + b + \"! \" + \"You're learning python.\")\n",
    "    \n",
    "# write down your first name and last name\n",
    "\n",
    "first_name = input()\n",
    "last_name = input()\n",
    "\n",
    "print_full_name(first_name, last_name)"
   ]
  },
  {
   "cell_type": "markdown",
   "metadata": {},
   "source": [
    "# Mutations"
   ]
  },
  {
   "cell_type": "markdown",
   "metadata": {},
   "source": [
    "### problem set"
   ]
  },
  {
   "cell_type": "markdown",
   "metadata": {},
   "source": [
    "- list : mutable\n",
    "- tuple : immutable<br/>\n",
    "\n",
    "we want to convert string to a list and then change the value<br/>\n",
    "$ex$) string : 'ABCDEFL' -> list : ABCDEFG"
   ]
  },
  {
   "cell_type": "code",
   "execution_count": 7,
   "metadata": {},
   "outputs": [
    {
     "name": "stdout",
     "output_type": "stream",
     "text": [
      "ABCDEFL\n",
      "6 G\n",
      "ABCDEFG\n"
     ]
    }
   ],
   "source": [
    "# Solution 1\n",
    "# user define fuction\n",
    "\n",
    "def mutate_string(string, position, character):\n",
    "    # convert string to a list\n",
    "    a = list(s)\n",
    "    # assign the position of the character that you want to change\n",
    "    a[int(i)] = c\n",
    "    # concatenate the list without empty space\n",
    "    string = \"\".join(a)\n",
    "    print(string);\n",
    "    \n",
    "# input\n",
    "\n",
    "s = input()\n",
    "i, c = input().split()\n",
    "s_new = mutate_string(s, int(i), c)"
   ]
  },
  {
   "cell_type": "code",
   "execution_count": 8,
   "metadata": {},
   "outputs": [
    {
     "name": "stdout",
     "output_type": "stream",
     "text": [
      "ABCDEFL\n",
      "6 G\n",
      "ABCDEFG\n"
     ]
    }
   ],
   "source": [
    "# Soulution 2\n",
    "\n",
    "def mutate_string(string, position, character):\n",
    "    string = string[:int(i)] + c + string[int(i)+1:]\n",
    "    print(string)\n",
    "    \n",
    "s = input()\n",
    "i, c = input().split()\n",
    "s_new = mutate_string(s, int(i), c)"
   ]
  }
 ],
 "metadata": {
  "kernelspec": {
   "display_name": "Python 3",
   "language": "python",
   "name": "python3"
  },
  "language_info": {
   "codemirror_mode": {
    "name": "ipython",
    "version": 3
   },
   "file_extension": ".py",
   "mimetype": "text/x-python",
   "name": "python",
   "nbconvert_exporter": "python",
   "pygments_lexer": "ipython3",
   "version": "3.8.3"
  }
 },
 "nbformat": 4,
 "nbformat_minor": 4
}
